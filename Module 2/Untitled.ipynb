{
 "cells": [
  {
   "cell_type": "code",
   "execution_count": 1,
   "id": "14fd99bb",
   "metadata": {},
   "outputs": [],
   "source": [
    "R1=470\n",
    "R2=1000\n",
    "R3=680"
   ]
  },
  {
   "cell_type": "markdown",
   "id": "6e4f0d98",
   "metadata": {},
   "source": [
    "## $V_{R_3}$ for +5V only"
   ]
  },
  {
   "cell_type": "code",
   "execution_count": 4,
   "id": "9317c000",
   "metadata": {},
   "outputs": [
    {
     "name": "stdout",
     "output_type": "stream",
     "text": [
      "V_R3=2.3135547087642894 V\n"
     ]
    }
   ],
   "source": [
    "print(\"V_R3=\",end=\"\")\n",
    "print((R2*R3)/(R2+R3)*1/(R1+(R2*R3)/(R2+R3))*5, end=\" \")\n",
    "print(\"V\")"
   ]
  },
  {
   "cell_type": "markdown",
   "id": "be5f040a",
   "metadata": {},
   "source": [
    "## $V_{R_3}$ for -5V only"
   ]
  },
  {
   "cell_type": "code",
   "execution_count": 5,
   "id": "8f4217dc",
   "metadata": {},
   "outputs": [
    {
     "name": "stdout",
     "output_type": "stream",
     "text": [
      "V_R3=1.087370713119216 V\n"
     ]
    }
   ],
   "source": [
    "print(\"V_R3=\",end=\"\")\n",
    "print((R1*R3)/(R1+R3)*1/(R2+(R1*R3)/(R1+R3))*5, end=\" \")\n",
    "print(\"V\")"
   ]
  },
  {
   "cell_type": "markdown",
   "id": "1ad73d98",
   "metadata": {},
   "source": [
    "## All On"
   ]
  },
  {
   "cell_type": "code",
   "execution_count": 8,
   "id": "5062d5b4",
   "metadata": {},
   "outputs": [
    {
     "data": {
      "text/plain": [
       "1.2261839956450735"
      ]
     },
     "execution_count": 8,
     "metadata": {},
     "output_type": "execute_result"
    }
   ],
   "source": [
    "5*(R2-R1)*R3/(R1*R2+R2*R3+R3*R1)"
   ]
  },
  {
   "cell_type": "markdown",
   "id": "17857b58",
   "metadata": {},
   "source": [
    "# Lab 2"
   ]
  },
  {
   "cell_type": "code",
   "execution_count": 15,
   "id": "97b5d98f",
   "metadata": {},
   "outputs": [],
   "source": [
    "R1= 4.7\n",
    "R2 = 5.6\n",
    "R3 = 1.2\n",
    "RL=10"
   ]
  },
  {
   "cell_type": "code",
   "execution_count": 16,
   "id": "1aa614a1",
   "metadata": {},
   "outputs": [
    {
     "data": {
      "text/plain": [
       "2.966101694915254"
      ]
     },
     "execution_count": 16,
     "metadata": {},
     "output_type": "execute_result"
    }
   ],
   "source": [
    "Vth=5*(R1-R3)/(R3+R1)\n",
    "Vth"
   ]
  },
  {
   "cell_type": "code",
   "execution_count": 17,
   "id": "4ff8cd48",
   "metadata": {},
   "outputs": [
    {
     "data": {
      "text/plain": [
       "6.55593220338983"
      ]
     },
     "execution_count": 17,
     "metadata": {},
     "output_type": "execute_result"
    }
   ],
   "source": [
    "Rth=R2+R1*R3/(R1+R3)\n",
    "Rth"
   ]
  },
  {
   "cell_type": "code",
   "execution_count": 18,
   "id": "86e33695",
   "metadata": {},
   "outputs": [
    {
     "data": {
      "text/plain": [
       "1.7915642915642915"
      ]
     },
     "execution_count": 18,
     "metadata": {},
     "output_type": "execute_result"
    }
   ],
   "source": [
    "Vth*(RL)/(Rth+RL)"
   ]
  },
  {
   "cell_type": "code",
   "execution_count": null,
   "id": "90824b5c",
   "metadata": {},
   "outputs": [],
   "source": []
  }
 ],
 "metadata": {
  "kernelspec": {
   "display_name": "Python 3 (ipykernel)",
   "language": "python",
   "name": "python3"
  },
  "language_info": {
   "codemirror_mode": {
    "name": "ipython",
    "version": 3
   },
   "file_extension": ".py",
   "mimetype": "text/x-python",
   "name": "python",
   "nbconvert_exporter": "python",
   "pygments_lexer": "ipython3",
   "version": "3.9.7"
  }
 },
 "nbformat": 4,
 "nbformat_minor": 5
}
